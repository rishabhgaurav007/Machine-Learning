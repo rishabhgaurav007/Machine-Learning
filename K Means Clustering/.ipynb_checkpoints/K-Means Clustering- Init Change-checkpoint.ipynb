{
 "cells": [
  {
   "cell_type": "markdown",
   "metadata": {},
   "source": [
    "# K-Means\n",
    "- Common clustering technique, helps to solve many problems efficiently.\n",
    "- K-Means is an example of Hard Clustering, where every point belongs only to one cluster.\n",
    "\n",
    "## Motivation Problem - *Pizza Parlour Study*\n",
    "\n",
    "**Problem Statement** Given the list of locations of customers who frequently order Pizza we want to find out optimal locations of Pizza Parlours where they should be opened.\n",
    "\n",
    "<img src=\"pizza1.png\" alt=\"Pizza-1\" style=\"width: 400px;\"/>\n",
    "\n",
    "**Step-1** : Initialise Pizza Parlour Centers randomly.\n",
    "<img src=\"pizza2.png\" alt=\"Pizza-2\" style=\"width: 400px;\"/>\n",
    "\n",
    "**Step-2** : Assign each customer to its nearest Pizza Center.\n",
    "<img src=\"pizza3.png\" alt=\"Pizza-3\" style=\"width: 400px;\"/>\n",
    "\n",
    "**Step-3** : Update the Center Location by taking mean of customers assigned to it.\n",
    "<img src=\"pizza4.png\" alt=\"Pizza-4\" style=\"width: 400px;\"/>\n",
    "\n",
    "**Step-4** : Repeat Steps 2 and 3 Until Convergence.\n",
    "<img src=\"pizza5.png\" alt=\"Pizza-5\" style=\"width: 400px;\"/>"
   ]
  },
  {
   "cell_type": "markdown",
   "metadata": {},
   "source": [
    "## K-Means Algorithm\n",
    "\n",
    "**Input Data** : X = {x1,...,xN}\n",
    "\n",
    "**Goal** : Partition the data among some K number of clusters. Let us assume K is known to us.\n",
    "\n",
    "Let µk denote the center of Kth Cluster (uk will be vector)\n",
    "\n",
    "So we need to ﬁnd an assignment of data points to clusters,\n",
    "as well as a set of cluster centers{µk}, such that the sum of the squares \n",
    "of the distances of each data point to its closest cluster center µk, is a minimum. \n",
    "\n"
   ]
  },
  {
   "cell_type": "markdown",
   "metadata": {},
   "source": [
    "\n",
    "<img src=\"k-means.png\" alt=\"Pizza-1\" style=\"width: 600px;\"/>\n"
   ]
  },
  {
   "cell_type": "markdown",
   "metadata": {},
   "source": [
    "## Implementation\n",
    "\n"
   ]
  },
  {
   "cell_type": "code",
   "execution_count": 1,
   "metadata": {},
   "outputs": [],
   "source": [
    "import numpy as np\n",
    "from matplotlib import pyplot as plt\n",
    "from sklearn.datasets import make_blobs"
   ]
  },
  {
   "cell_type": "markdown",
   "metadata": {},
   "source": [
    "## Dataset Preparation"
   ]
  },
  {
   "cell_type": "code",
   "execution_count": null,
   "metadata": {},
   "outputs": [],
   "source": []
  }
 ],
 "metadata": {
  "kernelspec": {
   "display_name": "Python 3",
   "language": "python",
   "name": "python3"
  },
  "language_info": {
   "codemirror_mode": {
    "name": "ipython",
    "version": 3
   },
   "file_extension": ".py",
   "mimetype": "text/x-python",
   "name": "python",
   "nbconvert_exporter": "python",
   "pygments_lexer": "ipython3",
   "version": "3.7.3"
  }
 },
 "nbformat": 4,
 "nbformat_minor": 2
}
