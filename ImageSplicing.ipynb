{
  "nbformat": 4,
  "nbformat_minor": 0,
  "metadata": {
    "colab": {
      "name": "ImageSplicing.ipynb",
      "provenance": [],
      "mount_file_id": "1uXFh16xEZw43GCdnwS4dREHV9E_k9kyW",
      "authorship_tag": "ABX9TyPF4QLwRcc9AUrfT2QIo4r3",
      "include_colab_link": true
    },
    "kernelspec": {
      "name": "python3",
      "display_name": "Python 3"
    },
    "accelerator": "TPU"
  },
  "cells": [
    {
      "cell_type": "markdown",
      "metadata": {
        "id": "view-in-github",
        "colab_type": "text"
      },
      "source": [
        "<a href=\"https://colab.research.google.com/github/rishabhgaurav007/Machine-Learning/blob/master/ImageSplicing.ipynb\" target=\"_parent\"><img src=\"https://colab.research.google.com/assets/colab-badge.svg\" alt=\"Open In Colab\"/></a>"
      ]
    },
    {
      "cell_type": "code",
      "metadata": {
        "id": "nUq1G7JzdW9i",
        "colab_type": "code",
        "colab": {}
      },
      "source": [
        "from google.colab import files\n",
        "!pip install -q kaggle\n",
        "import os\n",
        "os.environ['KAGGLE_USERNAME'] = \"gurudeepkuwar\"\n",
        "os.environ['KAGGLE_KEY'] = \"0c7a28418c8d3e28bf34b04cc6af54f8\""
      ],
      "execution_count": 0,
      "outputs": []
    },
    {
      "cell_type": "code",
      "metadata": {
        "id": "-y6kRDPzd3S0",
        "colab_type": "code",
        "outputId": "bc727c58-517d-46ce-af1a-b16df606b47e",
        "colab": {
          "base_uri": "https://localhost:8080/",
          "height": 70
        }
      },
      "source": [
        "!kaggle datasets download -d sophatvathana/casia-dataset"
      ],
      "execution_count": 2,
      "outputs": [
        {
          "output_type": "stream",
          "text": [
            "Downloading casia-dataset.zip to /content\n",
            "100% 5.21G/5.22G [01:12<00:00, 59.6MB/s]\n",
            "100% 5.22G/5.22G [01:12<00:00, 77.2MB/s]\n"
          ],
          "name": "stdout"
        }
      ]
    },
    {
      "cell_type": "code",
      "metadata": {
        "id": "O6-6cpwKeBuL",
        "colab_type": "code",
        "colab": {}
      },
      "source": [
        "!unzip casia-dataset.zip"
      ],
      "execution_count": 0,
      "outputs": []
    },
    {
      "cell_type": "code",
      "metadata": {
        "id": "7YKNUf2ZjbLI",
        "colab_type": "code",
        "colab": {}
      },
      "source": [
        "#imports here\n",
        "import pandas as pd\n",
        "import numpy as np\n",
        "import matplotlib.pyplot as plt\n",
        "from sklearn.model_selection import train_test_split"
      ],
      "execution_count": 0,
      "outputs": []
    },
    {
      "cell_type": "code",
      "metadata": {
        "id": "mqP70J6TeiUM",
        "colab_type": "code",
        "colab": {}
      },
      "source": [
        "import os\n",
        "path_orig = 'casia/CASIA2/Au/' #Authentic \n",
        "path_modif = 'casia/CASIA2/Tp/' #Tampered\n",
        "\n",
        "folder_orig = os.listdir()\n",
        "folder_modif = os.listdir()\n",
        "\n",
        "strings = []\n",
        "\n",
        "for file in os.listdir(path_orig):\n",
        "    if file.endswith('jpg'):\n",
        "      if int(os.stat(path_orig + file).st_size) > 10000:\n",
        "        line =  path_orig + file  + ',1\\n'\n",
        "        strings.append(line)\n",
        "\n",
        "for file in os.listdir(path_modif):\n",
        "      if file.endswith('jpg') or file.endswith('tif'):\n",
        "         if int(os.stat(path_modif + file).st_size) > 10000:\n",
        "            line =  path_modif + file + ',0\\n'\n",
        "            strings.append(line)\n",
        "\n",
        "#run once to create the file\n",
        "for line in strings:\n",
        "      with open('casia/dataset.csv', 'a') as f:\n",
        "         f.write(line)"
      ],
      "execution_count": 0,
      "outputs": []
    },
    {
      "cell_type": "code",
      "metadata": {
        "id": "vSapbH7jgp07",
        "colab_type": "code",
        "outputId": "29387eee-ed3e-4f06-f4be-2147d5055e64",
        "colab": {
          "base_uri": "https://localhost:8080/",
          "height": 388
        }
      },
      "source": [
        "#reading csv\n",
        "df = pd.read_csv('casia/dataset.csv',names=['Path','Class'])\n",
        "df"
      ],
      "execution_count": 6,
      "outputs": [
        {
          "output_type": "execute_result",
          "data": {
            "text/html": [
              "<div>\n",
              "<style scoped>\n",
              "    .dataframe tbody tr th:only-of-type {\n",
              "        vertical-align: middle;\n",
              "    }\n",
              "\n",
              "    .dataframe tbody tr th {\n",
              "        vertical-align: top;\n",
              "    }\n",
              "\n",
              "    .dataframe thead th {\n",
              "        text-align: right;\n",
              "    }\n",
              "</style>\n",
              "<table border=\"1\" class=\"dataframe\">\n",
              "  <thead>\n",
              "    <tr style=\"text-align: right;\">\n",
              "      <th></th>\n",
              "      <th>Path</th>\n",
              "      <th>Class</th>\n",
              "    </tr>\n",
              "  </thead>\n",
              "  <tbody>\n",
              "    <tr>\n",
              "      <th>0</th>\n",
              "      <td>casia/CASIA2/Au/Au_ani_30325.jpg</td>\n",
              "      <td>1</td>\n",
              "    </tr>\n",
              "    <tr>\n",
              "      <th>1</th>\n",
              "      <td>casia/CASIA2/Au/Au_arc_30059.jpg</td>\n",
              "      <td>1</td>\n",
              "    </tr>\n",
              "    <tr>\n",
              "      <th>2</th>\n",
              "      <td>casia/CASIA2/Au/Au_sec_20079.jpg</td>\n",
              "      <td>1</td>\n",
              "    </tr>\n",
              "    <tr>\n",
              "      <th>3</th>\n",
              "      <td>casia/CASIA2/Au/Au_art_30483.jpg</td>\n",
              "      <td>1</td>\n",
              "    </tr>\n",
              "    <tr>\n",
              "      <th>4</th>\n",
              "      <td>casia/CASIA2/Au/Au_sec_30259.jpg</td>\n",
              "      <td>1</td>\n",
              "    </tr>\n",
              "    <tr>\n",
              "      <th>...</th>\n",
              "      <td>...</td>\n",
              "      <td>...</td>\n",
              "    </tr>\n",
              "    <tr>\n",
              "      <th>12384</th>\n",
              "      <td>casia/CASIA2/Tp/Tp_S_NND_M_N_nat00023_nat00023...</td>\n",
              "      <td>0</td>\n",
              "    </tr>\n",
              "    <tr>\n",
              "      <th>12385</th>\n",
              "      <td>casia/CASIA2/Tp/Tp_D_CNN_M_N_arc00086_arc00086...</td>\n",
              "      <td>0</td>\n",
              "    </tr>\n",
              "    <tr>\n",
              "      <th>12386</th>\n",
              "      <td>casia/CASIA2/Tp/Tp_S_CRD_S_N_sec00020_sec00020...</td>\n",
              "      <td>0</td>\n",
              "    </tr>\n",
              "    <tr>\n",
              "      <th>12387</th>\n",
              "      <td>casia/CASIA2/Tp/Tp_S_NRN_S_N_ind00040_ind00040...</td>\n",
              "      <td>0</td>\n",
              "    </tr>\n",
              "    <tr>\n",
              "      <th>12388</th>\n",
              "      <td>casia/CASIA2/Tp/Tp_S_NNN_S_N_art20024_art20024...</td>\n",
              "      <td>0</td>\n",
              "    </tr>\n",
              "  </tbody>\n",
              "</table>\n",
              "<p>12389 rows × 2 columns</p>\n",
              "</div>"
            ],
            "text/plain": [
              "                                                    Path  Class\n",
              "0                       casia/CASIA2/Au/Au_ani_30325.jpg      1\n",
              "1                       casia/CASIA2/Au/Au_arc_30059.jpg      1\n",
              "2                       casia/CASIA2/Au/Au_sec_20079.jpg      1\n",
              "3                       casia/CASIA2/Au/Au_art_30483.jpg      1\n",
              "4                       casia/CASIA2/Au/Au_sec_30259.jpg      1\n",
              "...                                                  ...    ...\n",
              "12384  casia/CASIA2/Tp/Tp_S_NND_M_N_nat00023_nat00023...      0\n",
              "12385  casia/CASIA2/Tp/Tp_D_CNN_M_N_arc00086_arc00086...      0\n",
              "12386  casia/CASIA2/Tp/Tp_S_CRD_S_N_sec00020_sec00020...      0\n",
              "12387  casia/CASIA2/Tp/Tp_S_NRN_S_N_ind00040_ind00040...      0\n",
              "12388  casia/CASIA2/Tp/Tp_S_NNN_S_N_art20024_art20024...      0\n",
              "\n",
              "[12389 rows x 2 columns]"
            ]
          },
          "metadata": {
            "tags": []
          },
          "execution_count": 6
        }
      ]
    },
    {
      "cell_type": "code",
      "metadata": {
        "id": "aH-vS4t1h5zX",
        "colab_type": "code",
        "colab": {}
      },
      "source": [
        "#Feature Extraction Using GLCM\n",
        "from skimage.feature import greycomatrix,greycoprops\n",
        "import cv2\n",
        "from sklearn import preprocessing"
      ],
      "execution_count": 0,
      "outputs": []
    },
    {
      "cell_type": "code",
      "metadata": {
        "id": "yMBU8czPvcct",
        "colab_type": "code",
        "colab": {}
      },
      "source": [
        "properties=[\"correlation\",\"contrast\",\"homogeneity\",\"energy\",\"dissimilarity\"]\n",
        "\n",
        "DISTANCES = [1,2,3]\n",
        "ANGLES = [0.,np.pi/4.,np.pi/2.,3.*np.pi/4.]\n",
        "\n",
        "data = []\n",
        "cou=0;\n",
        "for row in df.itertuples():\n",
        "  print(cou);\n",
        "  cou=cou+1;\n",
        "  img = cv2.imread(row.Path)\n",
        "  imgYCB=cv2.cvtColor(img,cv2.COLOR_BGR2YCrCb)\n",
        "  img_arr = np.array(imgYCB)\n",
        "  imgans = []\n",
        "  for i in img_arr:\n",
        "    ans=[]\n",
        "    for j in i:\n",
        "      ans.append(j[1]) #Cb only\n",
        "    imgans.append(ans)\n",
        "  imgans = np.array(imgans)\n",
        "  lf=[]\n",
        "  for dis in DISTANCES:\n",
        "    for rad in ANGLES:\n",
        "      glcm = greycomatrix(imgans,distances=[dis],angles=[rad],levels=256,symmetric=True,normed=True)\n",
        "      for k in properties:\n",
        "        lf.append(greycoprops(glcm,k)[0,0])\n",
        "  data.append(np.array(lf))\n",
        "data = np.array(data)\n"
      ],
      "execution_count": 0,
      "outputs": []
    },
    {
      "cell_type": "code",
      "metadata": {
        "id": "-OpQtzvY33Hy",
        "colab_type": "code",
        "colab": {}
      },
      "source": [
        "X_glcm = data\n",
        "X=preprocessing.normalize(X_glcm,norm=\"l1\")\n",
        "y = df['Class'].to_numpy()"
      ],
      "execution_count": 0,
      "outputs": []
    },
    {
      "cell_type": "code",
      "metadata": {
        "id": "kKKt5uyEHRVR",
        "colab_type": "code",
        "outputId": "16913e55-793e-4967-ad43-e6af0866a52a",
        "colab": {
          "base_uri": "https://localhost:8080/",
          "height": 34
        }
      },
      "source": [
        "X.shape\n"
      ],
      "execution_count": 59,
      "outputs": [
        {
          "output_type": "execute_result",
          "data": {
            "text/plain": [
              "(12389, 60)"
            ]
          },
          "metadata": {
            "tags": []
          },
          "execution_count": 59
        }
      ]
    },
    {
      "cell_type": "code",
      "metadata": {
        "id": "2mfm2PXbooVM",
        "colab_type": "code",
        "colab": {}
      },
      "source": [
        "import random\n",
        "random.shuffle(X)"
      ],
      "execution_count": 0,
      "outputs": []
    },
    {
      "cell_type": "code",
      "metadata": {
        "id": "PgpfG1zPLm4l",
        "colab_type": "code",
        "outputId": "1e0e5732-f97b-45d3-e062-86b7c51a6773",
        "colab": {
          "base_uri": "https://localhost:8080/",
          "height": 34
        }
      },
      "source": [
        "y.shape"
      ],
      "execution_count": 60,
      "outputs": [
        {
          "output_type": "execute_result",
          "data": {
            "text/plain": [
              "(12389,)"
            ]
          },
          "metadata": {
            "tags": []
          },
          "execution_count": 60
        }
      ]
    },
    {
      "cell_type": "code",
      "metadata": {
        "id": "EQYanGjuN8Vs",
        "colab_type": "code",
        "colab": {
          "base_uri": "https://localhost:8080/",
          "height": 34
        },
        "outputId": "f045f2ec-f027-4c70-e52a-3e1a4f2240ac"
      },
      "source": [
        "X_train, X_test, y_train, y_test = train_test_split(X, y, test_size=0.30, random_state=0)\n",
        "X_train.shape"
      ],
      "execution_count": 61,
      "outputs": [
        {
          "output_type": "execute_result",
          "data": {
            "text/plain": [
              "(8672, 60)"
            ]
          },
          "metadata": {
            "tags": []
          },
          "execution_count": 61
        }
      ]
    },
    {
      "cell_type": "code",
      "metadata": {
        "id": "ek726u15MnqP",
        "colab_type": "code",
        "outputId": "09140e12-a102-49f0-94fb-4472aa453ee4",
        "colab": {
          "base_uri": "https://localhost:8080/",
          "height": 88
        }
      },
      "source": [
        "from sklearn.svm import SVC\n",
        "clf = SVC(gamma='auto')\n",
        "clf.fit(X_train,y_train)"
      ],
      "execution_count": 62,
      "outputs": [
        {
          "output_type": "execute_result",
          "data": {
            "text/plain": [
              "SVC(C=1.0, break_ties=False, cache_size=200, class_weight=None, coef0=0.0,\n",
              "    decision_function_shape='ovr', degree=3, gamma='auto', kernel='rbf',\n",
              "    max_iter=-1, probability=False, random_state=None, shrinking=True,\n",
              "    tol=0.001, verbose=False)"
            ]
          },
          "metadata": {
            "tags": []
          },
          "execution_count": 62
        }
      ]
    },
    {
      "cell_type": "code",
      "metadata": {
        "id": "53Se9hBfMOvc",
        "colab_type": "code",
        "outputId": "99c73ac6-3134-4123-c7f2-c0f414bc994f",
        "colab": {
          "base_uri": "https://localhost:8080/",
          "height": 34
        }
      },
      "source": [
        "clf.score(X_test,y_test)"
      ],
      "execution_count": 63,
      "outputs": [
        {
          "output_type": "execute_result",
          "data": {
            "text/plain": [
              "0.5873015873015873"
            ]
          },
          "metadata": {
            "tags": []
          },
          "execution_count": 63
        }
      ]
    },
    {
      "cell_type": "code",
      "metadata": {
        "id": "eEB1OE-sPhvN",
        "colab_type": "code",
        "colab": {}
      },
      "source": [
        "##\n",
        "\n",
        "from numpy import savetxt\n",
        "savetxt('glcm60.csv',X,delimiter = ',')"
      ],
      "execution_count": 0,
      "outputs": []
    },
    {
      "cell_type": "markdown",
      "metadata": {
        "id": "Q-sYp_UOP8z1",
        "colab_type": "text"
      },
      "source": [
        "**done**"
      ]
    },
    {
      "cell_type": "code",
      "metadata": {
        "id": "-l-yf4EEsRth",
        "colab_type": "code",
        "colab": {
          "base_uri": "https://localhost:8080/",
          "height": 106
        },
        "outputId": "7e662986-67c3-483d-f04d-be6ff11f2295"
      },
      "source": [
        "from sklearn.linear_model import LogisticRegression\n",
        "from sklearn import metrics\n",
        "X_train, X_test, y_train, y_test = train_test_split(X, y, test_size=0.3, random_state=0)\n",
        "logreg = LogisticRegression()\n",
        "logreg.fit(X_train, y_train)\n"
      ],
      "execution_count": 66,
      "outputs": [
        {
          "output_type": "execute_result",
          "data": {
            "text/plain": [
              "LogisticRegression(C=1.0, class_weight=None, dual=False, fit_intercept=True,\n",
              "                   intercept_scaling=1, l1_ratio=None, max_iter=100,\n",
              "                   multi_class='auto', n_jobs=None, penalty='l2',\n",
              "                   random_state=None, solver='lbfgs', tol=0.0001, verbose=0,\n",
              "                   warm_start=False)"
            ]
          },
          "metadata": {
            "tags": []
          },
          "execution_count": 66
        }
      ]
    },
    {
      "cell_type": "code",
      "metadata": {
        "id": "mur5vKby901_",
        "colab_type": "code",
        "colab": {
          "base_uri": "https://localhost:8080/",
          "height": 34
        },
        "outputId": "bd9fdcd9-9977-4c1e-d580-3f1bc6aabb0c"
      },
      "source": [
        "logreg.score(X_test,y_test)"
      ],
      "execution_count": 67,
      "outputs": [
        {
          "output_type": "execute_result",
          "data": {
            "text/plain": [
              "0.7688996502555825"
            ]
          },
          "metadata": {
            "tags": []
          },
          "execution_count": 67
        }
      ]
    },
    {
      "cell_type": "code",
      "metadata": {
        "id": "qfrmvrlutBoD",
        "colab_type": "code",
        "colab": {}
      },
      "source": [
        "##\n"
      ],
      "execution_count": 0,
      "outputs": []
    },
    {
      "cell_type": "code",
      "metadata": {
        "id": "i_WBOIw0uCvG",
        "colab_type": "code",
        "colab": {
          "base_uri": "https://localhost:8080/",
          "height": 142
        },
        "outputId": "0d4241d0-845c-4b26-fbda-c2d1ac2fa4e3"
      },
      "source": [
        "from sklearn.ensemble import RandomForestClassifier\n",
        "acc=[]\n",
        "n=40\n",
        "for k in range(4,11):\n",
        "    classifier = RandomForestClassifier(n_estimators=(k*10),criterion = 'entropy',random_state=0)\n",
        "    classifier.fit(X_train,y_train)\n",
        "    y_pred=classifier.predict(X_test)\n",
        "    acc.append(classifier.score(X_test,y_test))\n",
        "acc"
      ],
      "execution_count": 69,
      "outputs": [
        {
          "output_type": "execute_result",
          "data": {
            "text/plain": [
              "[0.9410815173527038,\n",
              " 0.9413505515200431,\n",
              " 0.9397363465160076,\n",
              " 0.9421576540220608,\n",
              " 0.9416195856873822,\n",
              " 0.9410815173527038,\n",
              " 0.9413505515200431]"
            ]
          },
          "metadata": {
            "tags": []
          },
          "execution_count": 69
        }
      ]
    },
    {
      "cell_type": "code",
      "metadata": {
        "id": "TW_BNfswujdw",
        "colab_type": "code",
        "colab": {}
      },
      "source": [
        "#"
      ],
      "execution_count": 0,
      "outputs": []
    },
    {
      "cell_type": "code",
      "metadata": {
        "id": "V8o-sZFMVED4",
        "colab_type": "code",
        "colab": {
          "base_uri": "https://localhost:8080/",
          "height": 34
        },
        "outputId": "8e935933-995d-4396-f59e-07880d328105"
      },
      "source": [
        ""
      ],
      "execution_count": 76,
      "outputs": [
        {
          "output_type": "stream",
          "text": [
            "casia  CASIA1  CASIA2  casia-dataset.zip  drive  glcm60.csv  sample_data\n"
          ],
          "name": "stdout"
        }
      ]
    },
    {
      "cell_type": "code",
      "metadata": {
        "id": "Le0elw8zVJum",
        "colab_type": "code",
        "colab": {
          "base_uri": "https://localhost:8080/",
          "height": 34
        },
        "outputId": "3e434ce6-1f26-4db0-a58e-190c70557a13"
      },
      "source": [
        "from numpy import genfromtxt\n",
        "X2= genfromtxt('/content/drive/My Drive/LBP_feature.csv', delimiter=',')\n",
        "X2.shape"
      ],
      "execution_count": 126,
      "outputs": [
        {
          "output_type": "execute_result",
          "data": {
            "text/plain": [
              "(12389, 162)"
            ]
          },
          "metadata": {
            "tags": []
          },
          "execution_count": 126
        }
      ]
    },
    {
      "cell_type": "code",
      "metadata": {
        "id": "3qEFgJvfYJYQ",
        "colab_type": "code",
        "colab": {}
      },
      "source": [
        ""
      ],
      "execution_count": 0,
      "outputs": []
    },
    {
      "cell_type": "code",
      "metadata": {
        "id": "XMtfVaUzZvNW",
        "colab_type": "code",
        "colab": {
          "base_uri": "https://localhost:8080/",
          "height": 34
        },
        "outputId": "be6b8392-26f6-4763-dafb-af7fda29aca8"
      },
      "source": [
        "X.shape"
      ],
      "execution_count": 114,
      "outputs": [
        {
          "output_type": "execute_result",
          "data": {
            "text/plain": [
              "(12389, 162)"
            ]
          },
          "metadata": {
            "tags": []
          },
          "execution_count": 114
        }
      ]
    },
    {
      "cell_type": "code",
      "metadata": {
        "id": "BeUaXWExbAeM",
        "colab_type": "code",
        "colab": {
          "base_uri": "https://localhost:8080/",
          "height": 34
        },
        "outputId": "57687aad-7785-4326-ed9a-77a1fb3d6a5f"
      },
      "source": [
        "from sklearn.linear_model import LogisticRegression\n",
        "from sklearn import metrics\n",
        "X_train, X_test, y_train, y_test = train_test_split(X, y, test_size=0.3, random_state=0)\n",
        "logreg = LogisticRegression()\n",
        "logreg.fit(X_train, y_train)\n",
        "logreg.score(X_test,y_test)"
      ],
      "execution_count": 93,
      "outputs": [
        {
          "output_type": "execute_result",
          "data": {
            "text/plain": [
              "0.6298089857411892"
            ]
          },
          "metadata": {
            "tags": []
          },
          "execution_count": 93
        }
      ]
    },
    {
      "cell_type": "code",
      "metadata": {
        "id": "mJPyz3SrbLct",
        "colab_type": "code",
        "colab": {
          "base_uri": "https://localhost:8080/",
          "height": 142
        },
        "outputId": "dc0f5989-be2e-40bd-ed71-daff4ef825f2"
      },
      "source": [
        "from sklearn.ensemble import RandomForestClassifier\n",
        "acc=[]\n",
        "for k in range(4,11):\n",
        "    classifier = RandomForestClassifier(n_estimators=(k*10),criterion = 'entropy',random_state=0)\n",
        "    classifier.fit(X_train,y_train)\n",
        "    y_pred=classifier.predict(X_test)\n",
        "    acc.append(classifier.score(X_test,y_test))\n",
        "acc"
      ],
      "execution_count": 95,
      "outputs": [
        {
          "output_type": "execute_result",
          "data": {
            "text/plain": [
              "[0.6674737691686844,\n",
              " 0.6704331450094162,\n",
              " 0.6704331450094162,\n",
              " 0.6698950766747377,\n",
              " 0.6696260425073984,\n",
              " 0.6698950766747377,\n",
              " 0.6725854183481302]"
            ]
          },
          "metadata": {
            "tags": []
          },
          "execution_count": 95
        }
      ]
    },
    {
      "cell_type": "code",
      "metadata": {
        "id": "a6ZPMcN8bXVg",
        "colab_type": "code",
        "colab": {}
      },
      "source": [
        "from numpy import genfromtxt\n",
        "X= genfromtxt('/content/glcm60.csv', delimiter=',')"
      ],
      "execution_count": 0,
      "outputs": []
    },
    {
      "cell_type": "code",
      "metadata": {
        "id": "t7HRx6ePdNWu",
        "colab_type": "code",
        "colab": {
          "base_uri": "https://localhost:8080/",
          "height": 34
        },
        "outputId": "f00559b1-3647-47a1-ed23-7632ba85fedd"
      },
      "source": [
        "X.shape"
      ],
      "execution_count": 125,
      "outputs": [
        {
          "output_type": "execute_result",
          "data": {
            "text/plain": [
              "(12389, 60)"
            ]
          },
          "metadata": {
            "tags": []
          },
          "execution_count": 125
        }
      ]
    },
    {
      "cell_type": "code",
      "metadata": {
        "id": "WMkzPzHfgrIK",
        "colab_type": "code",
        "colab": {}
      },
      "source": [
        ""
      ],
      "execution_count": 0,
      "outputs": []
    },
    {
      "cell_type": "code",
      "metadata": {
        "id": "WeHPGUSLdOr7",
        "colab_type": "code",
        "colab": {}
      },
      "source": [
        "X=np.concatenate((X,X2),axis=1)"
      ],
      "execution_count": 0,
      "outputs": []
    },
    {
      "cell_type": "code",
      "metadata": {
        "id": "hd-e9_mXenC8",
        "colab_type": "code",
        "colab": {
          "base_uri": "https://localhost:8080/",
          "height": 34
        },
        "outputId": "f2f6cedc-6d21-4e64-d4f5-ca45f95d60d3"
      },
      "source": [
        "X.shape"
      ],
      "execution_count": 129,
      "outputs": [
        {
          "output_type": "execute_result",
          "data": {
            "text/plain": [
              "(12389, 222)"
            ]
          },
          "metadata": {
            "tags": []
          },
          "execution_count": 129
        }
      ]
    },
    {
      "cell_type": "code",
      "metadata": {
        "id": "zBCSTe6ve_MC",
        "colab_type": "code",
        "colab": {}
      },
      "source": [
        "X=preprocessing.normalize(X,norm=\"l1\")\n"
      ],
      "execution_count": 0,
      "outputs": []
    },
    {
      "cell_type": "code",
      "metadata": {
        "id": "npqRYRB-f4j6",
        "colab_type": "code",
        "colab": {
          "base_uri": "https://localhost:8080/",
          "height": 34
        },
        "outputId": "42bb5457-1668-4a50-a300-6d8e524642c2"
      },
      "source": [
        "from sklearn.linear_model import LogisticRegression\n",
        "from sklearn import metrics\n",
        "X_train, X_test, y_train, y_test = train_test_split(X, y, test_size=0.3, random_state=0)\n",
        "logreg = LogisticRegression()\n",
        "logreg.fit(X_train, y_train)\n",
        "logreg.score(X_test,y_test)"
      ],
      "execution_count": 131,
      "outputs": [
        {
          "output_type": "execute_result",
          "data": {
            "text/plain": [
              "0.5897228948076406"
            ]
          },
          "metadata": {
            "tags": []
          },
          "execution_count": 131
        }
      ]
    },
    {
      "cell_type": "code",
      "metadata": {
        "id": "l_pXLbbugKKN",
        "colab_type": "code",
        "colab": {
          "base_uri": "https://localhost:8080/",
          "height": 142
        },
        "outputId": "c31974cf-7543-403e-fab5-e6a82c0d5371"
      },
      "source": [
        "from sklearn.ensemble import RandomForestClassifier\n",
        "acc=[]\n",
        "for k in range(4,11):\n",
        "    classifier = RandomForestClassifier(n_estimators=(k*10),criterion = 'entropy',random_state=0)\n",
        "    classifier.fit(X_train,y_train)\n",
        "    y_pred=classifier.predict(X_test)\n",
        "    acc.append(classifier.score(X_test,y_test))\n",
        "acc"
      ],
      "execution_count": 132,
      "outputs": [
        {
          "output_type": "execute_result",
          "data": {
            "text/plain": [
              "[0.9192897497982244,\n",
              " 0.9206349206349206,\n",
              " 0.9200968523002422,\n",
              " 0.9187516814635459,\n",
              " 0.9198278181329029,\n",
              " 0.9195587839655637,\n",
              " 0.9184826472962067]"
            ]
          },
          "metadata": {
            "tags": []
          },
          "execution_count": 132
        }
      ]
    },
    {
      "cell_type": "code",
      "metadata": {
        "id": "uwFskQh6iJ6D",
        "colab_type": "code",
        "colab": {
          "base_uri": "https://localhost:8080/",
          "height": 34
        },
        "outputId": "2ede5e3f-9b79-4e42-e3a6-e0107689a6f0"
      },
      "source": [
        "from sklearn.svm import SVC\n",
        "clf = SVC(gamma='auto')\n",
        "clf.fit(X_train,y_train)\n",
        "clf.predict(X_test)\n",
        "clf.score(X_test,y_test)"
      ],
      "execution_count": 134,
      "outputs": [
        {
          "output_type": "execute_result",
          "data": {
            "text/plain": [
              "0.5873015873015873"
            ]
          },
          "metadata": {
            "tags": []
          },
          "execution_count": 134
        }
      ]
    },
    {
      "cell_type": "code",
      "metadata": {
        "id": "qjcSB5mtjTNH",
        "colab_type": "code",
        "colab": {}
      },
      "source": [
        ""
      ],
      "execution_count": 0,
      "outputs": []
    }
  ]
}